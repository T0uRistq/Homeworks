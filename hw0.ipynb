{
 "cells": [
  {
   "cell_type": "markdown",
   "metadata": {},
   "source": [
    "# Домашнее задание к лекции \"Основы Python\""
   ]
  },
  {
   "cell_type": "markdown",
   "metadata": {},
   "source": [
    "## Задание 1"
   ]
  },
  {
   "cell_type": "code",
   "execution_count": null,
   "metadata": {},
   "outputs": [],
   "source": [
    "phrase_1 = '640Кб должно хватить для любых задач. Билл Гейтс (по легенде)'\n",
    "phrase_2 = 'Насколько проще было бы писать программы, если бы не заказчики'\n",
    "if len(phrase_1)>len(phrase_2):\n",
    "    print ('Фраза 1 длиннее фразы 2')\n",
    "elif len(phrase_1)<len(phrase_2):\n",
    "    print ('Фраза 2 длиннее фразы 1')\n",
    "else:\n",
    "    print ('Фразы равной длины')"
   ]
  },
  {
   "cell_type": "markdown",
   "metadata": {},
   "source": [
    "## Задание 2"
   ]
  },
  {
   "cell_type": "code",
   "execution_count": null,
   "metadata": {},
   "outputs": [],
   "source": [
    "year = 2019\n",
    "if (year%400==0) or (year%100!=0 and year%4==0):\n",
    "    print ('Високосный год')\n",
    "else:\n",
    "    print ('Обычный год')"
   ]
  },
  {
   "cell_type": "markdown",
   "metadata": {},
   "source": [
    "## Задание 3"
   ]
  },
  {
   "cell_type": "code",
   "execution_count": null,
   "metadata": {},
   "outputs": [],
   "source": [
    "day=int(input('Введите день: '))\n",
    "month=input('Введите месяц: ')\n",
    "if month == 'Декабрь':\n",
    "    astro_sign = 'Стрелец' if (day < 22) else 'Козерог'\n",
    "elif month == 'Январь':\n",
    "    astro_sign = 'Козерог' if (day < 20) else 'Водолей'\n",
    "elif month == 'Февраль':\n",
    "    astro_sign = 'Водолей' if (day < 19) else 'Рыбы'\n",
    "elif month == 'Март':\n",
    "    astro_sign = 'Рыбы' if (day < 21) else 'Овен'\n",
    "elif month == 'Апрель':\n",
    "    astro_sign = 'Овен' if (day < 20) else 'Телец'\n",
    "elif month == 'Май':\n",
    "    astro_sign = 'Телец' if (day < 21) else 'Близнецы'\n",
    "elif month == 'Июнь':\n",
    "    astro_sign = 'Близнецы' if (day < 21) else 'Рак'\n",
    "elif month == 'Июль':\n",
    "    astro_sign = 'Рак' if (day < 23) else 'Лев'\n",
    "elif month == 'Август':\n",
    "    astro_sign = 'Лев' if (day < 23) else 'Дева'\n",
    "elif month == 'Сентябрь':\n",
    "    astro_sign = 'Дева' if (day < 23) else 'Весы'\n",
    "elif month == 'Октябрь':\n",
    "    astro_sign = 'Весы' if (day < 23) else 'Скорпион'\n",
    "elif month == 'Ноябрь':\n",
    "    astro_sign = 'Скорпион' if (day < 22) else 'Стрелец'\n",
    "print('Ваш знак зодиака: ', astro_sign)\n"
   ]
  },
  {
   "cell_type": "markdown",
   "metadata": {},
   "source": [
    "## Задание 4"
   ]
  },
  {
   "cell_type": "code",
   "execution_count": null,
   "metadata": {},
   "outputs": [],
   "source": [
    "width = 10\n",
    "length = 205\n",
    "height = 5\n",
    "if width<15 and length<15 and height<15:\n",
    "    print ('Коробка №1')\n",
    "elif width<50 and length<50 and height<50:\n",
    "    print ('Коробка №2')\n",
    "elif length>200:\n",
    "    print ('Упаковка для лыж')\n",
    "else:\n",
    "    print ('Стандартная коробка №3')"
   ]
  },
  {
   "cell_type": "markdown",
   "metadata": {},
   "source": [
    "## Задание 5"
   ]
  },
  {
   "cell_type": "code",
   "execution_count": null,
   "metadata": {},
   "outputs": [],
   "source": [
    "number = 123456\n",
    "sum1=0\n",
    "sum2=0\n",
    "s=str(number)\n",
    "for i in s[:3:]:\n",
    "    sum1+=int(i)\n",
    "for i in s[3::]:\n",
    "    sum2+=int(i)\n",
    "if sum1==sum2:\n",
    "    print ('Счастливый билет')\n",
    "else:\n",
    "    print ('Неасчастливый билет')"
   ]
  },
  {
   "cell_type": "markdown",
   "metadata": {},
   "source": [
    "## Задание 6"
   ]
  },
  {
   "cell_type": "code",
   "execution_count": null,
   "metadata": {},
   "outputs": [],
   "source": [
    "t=input('Введите тип фигуры: ')\n",
    "if (t=='Круг'):\n",
    "    radius=float(input('Введите радиус круга: '))\n",
    "    print ('Площадь круга:', format(3.141592*radius**2, '.2f'))\n",
    "elif (t=='Треугольник'):\n",
    "    a=float(input('Введите длину стороны A: '))\n",
    "    b=float(input('Введите длину стороны B: '))\n",
    "    c=float(input('Введите длину стороны C: '))\n",
    "    p=(a+b+c)/2\n",
    "    print ('Площадь треугольника:', format((p*(p-a)*(p-b)*(p-c))**0.5, '.2f'))\n",
    "elif (t=='Прямоугольник'):\n",
    "    a=float(input('Введите длину стороны A: '))\n",
    "    b=float(input('Введите длину стороны B: '))\n",
    "    print ('Площадь прямоугольника:', format(a*b, '.2f'))"
   ]
  }
 ],
 "metadata": {
  "kernelspec": {
   "display_name": "Python 3",
   "language": "python",
   "name": "python3"
  },
  "language_info": {
   "codemirror_mode": {
    "name": "ipython",
    "version": 3
   },
   "file_extension": ".py",
   "mimetype": "text/x-python",
   "name": "python",
   "nbconvert_exporter": "python",
   "pygments_lexer": "ipython3",
   "version": "3.8.3"
  }
 },
 "nbformat": 4,
 "nbformat_minor": 4
}
