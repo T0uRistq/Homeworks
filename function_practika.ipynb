{
 "cells": [
  {
   "cell_type": "markdown",
   "metadata": {},
   "source": [
    "Вы работаете секретарем и вам постоянно приходят различные документы. Вы должны быть очень внимательны, чтобы не потерять ни один документ. Каталог документов хранится в следующем виде:"
   ]
  },
  {
   "cell_type": "code",
   "execution_count": null,
   "metadata": {},
   "outputs": [],
   "source": [
    "documents = [\n",
    "    {'type': 'passport', 'number': '2207 876234', 'name': 'Василий Гупкин'},\n",
    "    {'type': 'invoice', 'number': '11-2', 'name': 'Геннадий Покемонов'},\n",
    "    {'type': 'insurance', 'number': '10006', 'name': 'Аристарх Павлов'}\n",
    "]"
   ]
  },
  {
   "cell_type": "code",
   "execution_count": null,
   "metadata": {},
   "outputs": [],
   "source": [
    "def print_documents(documents):\n",
    "    for doc in documents:\n",
    "            print(list(doc.values())[0], '\"' + list(doc.values())[1] + '\"', list(doc.values())[2])"
   ]
  },
  {
   "cell_type": "markdown",
   "metadata": {},
   "source": [
    "Перечень полок, на которых находятся документы хранится в следующем виде:"
   ]
  },
  {
   "cell_type": "code",
   "execution_count": null,
   "metadata": {},
   "outputs": [],
   "source": [
    "directories = {\n",
    "    '1': ['2207 876234', '11-2'],\n",
    "    '2': ['10006'],\n",
    "    '3': []\n",
    "}"
   ]
  },
  {
   "cell_type": "code",
   "execution_count": null,
   "metadata": {},
   "outputs": [],
   "source": [
    "def print_directories(directories):\n",
    "    for key,value in directories.items():\n",
    "        print(key,value)"
   ]
  },
  {
   "cell_type": "markdown",
   "metadata": {},
   "source": [
    "Необходимо реализовать пользовательские команды (внимание! это не название функций, которые должны быть выразительными, а команды, которые вводит пользователь, чтобы получить необходимый результат):\n",
    "\n",
    "* p – people – команда, которая спросит номер документа и выведет имя человека, которому он принадлежит;\n",
    "* s – shelf – команда, которая спросит номер документа и выведет номер полки, на которой он находится\n",
    "Правильно обработайте ситуации, когда пользователь будет вводить несуществующий документ.\n",
    "* l – list – команда, которая выведет список всех документов в формате\n",
    "**passport \"2207 876234\" \"Василий Гупкин\"**\n",
    "* as – add shelf – команда, которая спросит номер новой полки и добавит ее в перечень. Предусмотрите случай, когда пользователь добавляет полку, которая уже существует.\n",
    "* d – delete – команда, которая спросит номер документа и удалит его из каталога и из перечня полок. Предусмотрите сценарий, когда пользователь вводит несуществующий документ;\n",
    "* m – move – команда, которая спросит номер документа и целевую полку и переместит его с текущей полки на целевую. Корректно обработайте кейсы, когда пользователь пытается переместить несуществующий документ или переместить документ на несуществующую полку;\n",
    "*  add – команда, которая добавит новый документ в каталог и в перечень полок, спросив его номер, тип, имя владельца и номер полки, на котором он будет храниться. Корректно обработайте ситуацию, когда пользователь будет пытаться добавить документ на несуществующую полку."
   ]
  },
  {
   "cell_type": "code",
   "execution_count": null,
   "metadata": {},
   "outputs": [],
   "source": [
    "command = input('Введите команду ')\n",
    "fl = True\n",
    "if command == 'p':\n",
    "    num = input('Введите номер документа ')\n",
    "    for e in documents:\n",
    "        if e['number'] == num:\n",
    "            print (e['name'])\n",
    "            fl = False\n",
    "    if fl:\n",
    "        print ('Error: несуществующий документ')\n",
    "elif command == 's':\n",
    "    num = input('Введите номер документа ')\n",
    "    for e in documents:\n",
    "        if e['number'] == num:\n",
    "            print (e['type'])\n",
    "            fl = False\n",
    "    if fl:\n",
    "        print ('Error: несуществующий документ')\n",
    "elif command == 'l':\n",
    "    print_documents(documents)\n",
    "elif command == 'as':\n",
    "    num = input('Введите номер новой полки ')\n",
    "    if num not in list(directories.keys()):\n",
    "        directories[num] = []\n",
    "        fl = False\n",
    "    if fl:\n",
    "        print ('Error: существующая полка')\n",
    "elif command == 'd':\n",
    "    num = input('Введите номер документа ')\n",
    "    for e in documents:\n",
    "        if e['number'] == num:\n",
    "            documents.remove(e)\n",
    "            fl = False\n",
    "    for e in list(directories.values()):\n",
    "        if num in e:\n",
    "            e.remove(num)\n",
    "    if fl:\n",
    "        print ('Error: несуществующий документ')\n",
    "elif command == 'm':\n",
    "    num = input('Введите номер документа ')\n",
    "    nums = input('Введите номер целевой полки ')\n",
    "    fls = True\n",
    "    if nums in list(directories.keys()):\n",
    "        fls = False\n",
    "    if not fls:\n",
    "        for e in directories:\n",
    "            if num in directories[e]:\n",
    "                directories[e].remove(num)\n",
    "                directories[nums].append(num)\n",
    "                fl = False\n",
    "    if fls:\n",
    "        print ('Error: несуществующая полка')\n",
    "    if not fls and fl:\n",
    "        print ('Error: несуществующий документ')\n",
    "elif command == 'add':\n",
    "    arg1 = input('Введите тип документа ')\n",
    "    arg2 = input('Введите номер документа ')\n",
    "    arg3 = input('Введите владельца документа ')\n",
    "    documents.append({'type': arg1, 'number': arg2, 'name': arg3})\n",
    "    nums = input('Введите номер полки ')\n",
    "    fls = True\n",
    "    if nums in list(directories.keys()):\n",
    "        fls = False\n",
    "    if not fls:\n",
    "        directories[nums].append(arg2)\n",
    "    if fls:\n",
    "        print ('Error: несуществующая полка')\n",
    "else:\n",
    "    print ('Несуществующая комманда, список комманд:\\np\\ns\\nl\\nas\\nd\\nm\\nadd')"
   ]
  },
  {
   "cell_type": "code",
   "execution_count": null,
   "metadata": {},
   "outputs": [],
   "source": [
    "print (directories)\n",
    "print (documents)"
   ]
  }
 ],
 "metadata": {
  "kernelspec": {
   "display_name": "Python 3",
   "language": "python",
   "name": "python3"
  },
  "language_info": {
   "codemirror_mode": {
    "name": "ipython",
    "version": 3
   },
   "file_extension": ".py",
   "mimetype": "text/x-python",
   "name": "python",
   "nbconvert_exporter": "python",
   "pygments_lexer": "ipython3",
   "version": "3.8.3"
  }
 },
 "nbformat": 4,
 "nbformat_minor": 4
}
