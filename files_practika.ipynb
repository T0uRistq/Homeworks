{
 "cells": [
  {
   "cell_type": "markdown",
   "metadata": {},
   "source": [
    "# Работа с файловой системой и модули"
   ]
  },
  {
   "cell_type": "markdown",
   "metadata": {},
   "source": [
    "## Задание 1"
   ]
  },
  {
   "cell_type": "code",
   "execution_count": 4,
   "metadata": {},
   "outputs": [],
   "source": [
    "f = open('purchase_log.txt', 'r')\n",
    "purchases = dict()\n",
    "f.readline()\n",
    "nf = f.readlines()\n",
    "for line in nf:\n",
    "    tmp = line.split(':')\n",
    "    purchases[tmp[1].split()[0].strip(',\"')] = tmp[2].split(' ', 1)[1].strip(',}\\n\"')"
   ]
  },
  {
   "cell_type": "markdown",
   "metadata": {},
   "source": [
    "## Задание 2"
   ]
  },
  {
   "cell_type": "code",
   "execution_count": 13,
   "metadata": {},
   "outputs": [],
   "source": [
    "rf = open('visit_log.csv', 'r')\n",
    "wf = open('funnel.csv', 'w')\n",
    "wf.write(rf.readline().strip('\\n'))\n",
    "wf.write(', category')\n",
    "wf.write('\\n')\n",
    "for line in rf:\n",
    "    tmp = line.split(',')[0]\n",
    "    if tmp in purchases:\n",
    "        wf.write(line.strip('\\n'))\n",
    "        wf.write(',')\n",
    "        wf.write(purchases[tmp])\n",
    "        wf.write('\\n')"
   ]
  }
 ],
 "metadata": {
  "kernelspec": {
   "display_name": "Python 3",
   "language": "python",
   "name": "python3"
  },
  "language_info": {
   "codemirror_mode": {
    "name": "ipython",
    "version": 3
   },
   "file_extension": ".py",
   "mimetype": "text/x-python",
   "name": "python",
   "nbconvert_exporter": "python",
   "pygments_lexer": "ipython3",
   "version": "3.8.3"
  }
 },
 "nbformat": 4,
 "nbformat_minor": 4
}
